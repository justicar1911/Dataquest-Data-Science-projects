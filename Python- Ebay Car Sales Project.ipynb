{
 "cells": [
  {
   "cell_type": "markdown",
   "metadata": {
    "collapsed": true,
    "deletable": true,
    "editable": true
   },
   "source": [
    "# Ebay Car Sales Project- Nadir Nibras\n"
   ]
  },
  {
   "cell_type": "markdown",
   "metadata": {
    "deletable": true,
    "editable": true
   },
   "source": [
    "## The aim of this project is to clean the data and analyze the included used car listings"
   ]
  },
  {
   "cell_type": "code",
   "execution_count": 3,
   "metadata": {
    "collapsed": false,
    "deletable": true,
    "editable": true
   },
   "outputs": [],
   "source": [
    "import pandas as pd\n",
    "import numpy as np\n",
    "\n",
    "autos = pd.read_csv(\"autos.csv\", encoding= \"Latin-1\");"
   ]
  },
  {
   "cell_type": "code",
   "execution_count": 4,
   "metadata": {
    "collapsed": true,
    "deletable": true,
    "editable": true
   },
   "outputs": [],
   "source": [
    "autos;"
   ]
  },
  {
   "cell_type": "code",
   "execution_count": 5,
   "metadata": {
    "collapsed": false,
    "deletable": true,
    "editable": true
   },
   "outputs": [
    {
     "name": "stdout",
     "output_type": "stream",
     "text": [
      "<class 'pandas.core.frame.DataFrame'>\n",
      "RangeIndex: 50000 entries, 0 to 49999\n",
      "Data columns (total 20 columns):\n",
      "dateCrawled            50000 non-null object\n",
      "name                   50000 non-null object\n",
      "seller                 50000 non-null object\n",
      "offerType              50000 non-null object\n",
      "price                  50000 non-null object\n",
      "abtest                 50000 non-null object\n",
      "vehicleType            44905 non-null object\n",
      "yearOfRegistration     50000 non-null int64\n",
      "gearbox                47320 non-null object\n",
      "powerPS                50000 non-null int64\n",
      "model                  47242 non-null object\n",
      "odometer               50000 non-null object\n",
      "monthOfRegistration    50000 non-null int64\n",
      "fuelType               45518 non-null object\n",
      "brand                  50000 non-null object\n",
      "notRepairedDamage      40171 non-null object\n",
      "dateCreated            50000 non-null object\n",
      "nrOfPictures           50000 non-null int64\n",
      "postalCode             50000 non-null int64\n",
      "lastSeen               50000 non-null object\n",
      "dtypes: int64(5), object(15)\n",
      "memory usage: 7.6+ MB\n"
     ]
    }
   ],
   "source": [
    "autos.info();\n",
    "autos.head();"
   ]
  },
  {
   "cell_type": "markdown",
   "metadata": {
    "deletable": true,
    "editable": true
   },
   "source": [
    "It seems that certain cells such as vehicle type and model have a lot of null values while most variables have no null values"
   ]
  },
  {
   "cell_type": "code",
   "execution_count": 6,
   "metadata": {
    "collapsed": true,
    "deletable": true,
    "editable": true
   },
   "outputs": [],
   "source": [
    "autos.columns;"
   ]
  },
  {
   "cell_type": "code",
   "execution_count": 7,
   "metadata": {
    "collapsed": false,
    "deletable": true,
    "editable": true
   },
   "outputs": [],
   "source": [
    "autos.columns=['date_crawled', 'name', 'seller', 'offerType', 'price', \n",
    "              'abtest', 'vehicleType', 'registration_year', \n",
    "              'gearbox', 'powerPS', 'model', 'odometer', \n",
    "              'registration_month', 'fuelType', 'brand',\n",
    "              'unrepaired_damage', 'ad_created', 'nrOfPictures', \n",
    "              'postalCode', 'last_seen'];\n",
    "autos.head;"
   ]
  },
  {
   "cell_type": "markdown",
   "metadata": {
    "deletable": true,
    "editable": true
   },
   "source": [
    "The column names were changed so that all column names are now in a similar format and we can clean it easily"
   ]
  },
  {
   "cell_type": "code",
   "execution_count": 8,
   "metadata": {
    "collapsed": true,
    "deletable": true,
    "editable": true
   },
   "outputs": [],
   "source": [
    "autos.describe(include='all');"
   ]
  },
  {
   "cell_type": "markdown",
   "metadata": {
    "collapsed": true,
    "deletable": true,
    "editable": true
   },
   "source": [
    "seller and offer type have mostly 1 value\n",
    "\n",
    "price, odometer need to be converted to numeric columns"
   ]
  },
  {
   "cell_type": "code",
   "execution_count": 9,
   "metadata": {
    "collapsed": true,
    "deletable": true,
    "editable": true
   },
   "outputs": [],
   "source": [
    "autos[\"price\"]=autos[\"price\"].str.replace(\",\",\"\").str.replace(\"$\",\"\").astype(float)\n",
    "autos[\"odometer\"]=autos[\"odometer\"].str.replace(\",\",\"\").str.replace(\"km\",\"\").astype(float)\n",
    "autos= autos.rename(columns={\"odometer\": \"odometer_km\"});\n",
    "autos;"
   ]
  },
  {
   "cell_type": "code",
   "execution_count": 10,
   "metadata": {
    "collapsed": false,
    "deletable": true,
    "editable": true
   },
   "outputs": [],
   "source": [
    "autos[\"odometer_km\"].unique().shape;\n",
    "autos[\"odometer_km\"].value_counts();\n",
    "autos[\"odometer_km\"].describe();\n"
   ]
  },
  {
   "cell_type": "code",
   "execution_count": 11,
   "metadata": {
    "collapsed": true,
    "deletable": true,
    "editable": true
   },
   "outputs": [],
   "source": [
    "autos[\"price\"].unique().shape;\n",
    "#Removing unrealistical high/low prices\n",
    "autos= autos[autos[\"price\"].between(100,1000000)];\n",
    "autos[\"price\"].describe();\n",
    "autos[\"price\"].value_counts().sort_index(ascending=False);"
   ]
  },
  {
   "cell_type": "markdown",
   "metadata": {
    "deletable": true,
    "editable": true
   },
   "source": [
    "A lot of cars are being sold for really low prices"
   ]
  },
  {
   "cell_type": "code",
   "execution_count": 12,
   "metadata": {
    "collapsed": true,
    "deletable": true,
    "editable": true
   },
   "outputs": [],
   "source": [
    "autos['date_crawled'].str[:10].value_counts(normalize=True, dropna=False);"
   ]
  },
  {
   "cell_type": "markdown",
   "metadata": {
    "collapsed": true,
    "deletable": true,
    "editable": true
   },
   "source": [
    "A lot of the dates seem to be in March or April of 2016. Not a lot of missing values"
   ]
  },
  {
   "cell_type": "code",
   "execution_count": 13,
   "metadata": {
    "collapsed": true,
    "deletable": true,
    "editable": true
   },
   "outputs": [],
   "source": [
    "autos['ad_created'].str[:10].value_counts(normalize=True, dropna=False);"
   ]
  },
  {
   "cell_type": "markdown",
   "metadata": {
    "deletable": true,
    "editable": true
   },
   "source": [
    "A lot of the dates seem to be in March or April of 2016. Not a lot of missing values"
   ]
  },
  {
   "cell_type": "code",
   "execution_count": 14,
   "metadata": {
    "collapsed": true,
    "deletable": true,
    "editable": true
   },
   "outputs": [],
   "source": [
    "autos['last_seen'].str[:10].value_counts(normalize=True, dropna=False).sort_index();"
   ]
  },
  {
   "cell_type": "markdown",
   "metadata": {
    "deletable": true,
    "editable": true
   },
   "source": [
    "A lot of the dates seem to be in March or April of 2016. Not a lot of missing values"
   ]
  },
  {
   "cell_type": "code",
   "execution_count": 15,
   "metadata": {
    "collapsed": false,
    "deletable": true,
    "editable": true
   },
   "outputs": [],
   "source": [
    "autos[\"registration_year\"].describe();"
   ]
  },
  {
   "cell_type": "markdown",
   "metadata": {
    "deletable": true,
    "editable": true
   },
   "source": [
    "There are impossible values of registration year both on the minimum and the maximum end of things. Not all data points have a registration value"
   ]
  },
  {
   "cell_type": "markdown",
   "metadata": {
    "deletable": true,
    "editable": true
   },
   "source": [
    "The highest and lowest acceptable values for registration year should be 2016 and 1900 respectively"
   ]
  },
  {
   "cell_type": "code",
   "execution_count": 16,
   "metadata": {
    "collapsed": false,
    "deletable": true,
    "editable": true
   },
   "outputs": [
    {
     "data": {
      "text/plain": [
       "(1872, 20)"
      ]
     },
     "execution_count": 16,
     "metadata": {},
     "output_type": "execute_result"
    }
   ],
   "source": [
    "df= autos[(autos[\"registration_year\"]<1900)|(autos[\"registration_year\"]>2016)];\n",
    "df.shape"
   ]
  },
  {
   "cell_type": "code",
   "execution_count": 17,
   "metadata": {
    "collapsed": false,
    "deletable": true,
    "editable": true
   },
   "outputs": [],
   "source": [
    "autos= autos[(autos[\"registration_year\"].between(1900,2017))]\n",
    "autos[\"registration_year\"].value_counts();"
   ]
  },
  {
   "cell_type": "markdown",
   "metadata": {
    "deletable": true,
    "editable": true
   },
   "source": [
    "The most common registration years seem to be the early 2000s but there are also a lot of cars in the late 90s"
   ]
  },
  {
   "cell_type": "code",
   "execution_count": 18,
   "metadata": {
    "collapsed": false,
    "deletable": true,
    "editable": true
   },
   "outputs": [],
   "source": [
    "#Ranking cars by how often they are found in the overall data-set\n",
    "autos[\"brand\"].value_counts(normalize=True).index;"
   ]
  },
  {
   "cell_type": "code",
   "execution_count": 19,
   "metadata": {
    "collapsed": true,
    "deletable": true,
    "editable": true
   },
   "outputs": [],
   "source": [
    "mcb=['volkswagen', 'bmw', 'opel', 'mercedes_benz', 'audi',\n",
    "'ford', 'renault', 'peugeot', 'fiat', 'seat']\n"
   ]
  },
  {
   "cell_type": "markdown",
   "metadata": {
    "deletable": true,
    "editable": true
   },
   "source": [
    "The most common 10 brands of cars up for sale were saved in a series"
   ]
  },
  {
   "cell_type": "code",
   "execution_count": 20,
   "metadata": {
    "collapsed": false,
    "deletable": true,
    "editable": true
   },
   "outputs": [],
   "source": [
    "brand_mean_price={}\n",
    "for brand in mcb:\n",
    "    df= autos[autos[\"brand\"]==brand]\n",
    "    mean_price= df[\"price\"].mean()\n",
    "    brand_mean_price[brand]= mean_price"
   ]
  },
  {
   "cell_type": "code",
   "execution_count": 21,
   "metadata": {
    "collapsed": false,
    "deletable": true,
    "editable": true
   },
   "outputs": [],
   "source": [
    "brand_mean_price;"
   ]
  },
  {
   "cell_type": "markdown",
   "metadata": {
    "deletable": true,
    "editable": true
   },
   "source": [
    "Unsurprisingly, Ford and Open have cheaper average for their cars. The brands that are known for having expensive cars such as Audi and BMW do seem to have the highest mean prices."
   ]
  },
  {
   "cell_type": "code",
   "execution_count": 22,
   "metadata": {
    "collapsed": false,
    "deletable": true,
    "editable": true
   },
   "outputs": [
    {
     "data": {
      "text/plain": [
       "{'audi': 129519.18406993686,\n",
       " 'bmw': 132787.92539896173,\n",
       " 'fiat': 117203.73376623377,\n",
       " 'ford': 124266.20648259304,\n",
       " 'mercedes_benz': 131196.03139991278,\n",
       " 'opel': 129476.33824670287,\n",
       " 'peugeot': 127275.30077848549,\n",
       " 'renault': 128297.40431148262,\n",
       " 'seat': 122015.76576576577,\n",
       " 'volkswagen': 129023.03376316567}"
      ]
     },
     "execution_count": 22,
     "metadata": {},
     "output_type": "execute_result"
    }
   ],
   "source": [
    "brand_mean_milage= {}\n",
    "for brand in mcb:\n",
    "    df= autos[autos[\"brand\"]==brand]\n",
    "    mean_milage= df[\"odometer_km\"].mean()\n",
    "    brand_mean_milage[brand]= mean_milage\n",
    "brand_mean_milage"
   ]
  },
  {
   "cell_type": "code",
   "execution_count": 53,
   "metadata": {
    "collapsed": false,
    "deletable": true,
    "editable": true
   },
   "outputs": [
    {
     "data": {
      "text/html": [
       "<div>\n",
       "<style scoped>\n",
       "    .dataframe tbody tr th:only-of-type {\n",
       "        vertical-align: middle;\n",
       "    }\n",
       "\n",
       "    .dataframe tbody tr th {\n",
       "        vertical-align: top;\n",
       "    }\n",
       "\n",
       "    .dataframe thead th {\n",
       "        text-align: right;\n",
       "    }\n",
       "</style>\n",
       "<table border=\"1\" class=\"dataframe\">\n",
       "  <thead>\n",
       "    <tr style=\"text-align: right;\">\n",
       "      <th></th>\n",
       "      <th>mean_price</th>\n",
       "      <th>mean_milage</th>\n",
       "    </tr>\n",
       "  </thead>\n",
       "  <tbody>\n",
       "    <tr>\n",
       "      <th>audi</th>\n",
       "      <td>9286.365226</td>\n",
       "      <td>129519.184070</td>\n",
       "    </tr>\n",
       "    <tr>\n",
       "      <th>bmw</th>\n",
       "      <td>8331.746587</td>\n",
       "      <td>132787.925399</td>\n",
       "    </tr>\n",
       "    <tr>\n",
       "      <th>fiat</th>\n",
       "      <td>2813.182630</td>\n",
       "      <td>117203.733766</td>\n",
       "    </tr>\n",
       "    <tr>\n",
       "      <th>ford</th>\n",
       "      <td>4060.090036</td>\n",
       "      <td>124266.206483</td>\n",
       "    </tr>\n",
       "    <tr>\n",
       "      <th>mercedes_benz</th>\n",
       "      <td>8572.807239</td>\n",
       "      <td>131196.031400</td>\n",
       "    </tr>\n",
       "    <tr>\n",
       "      <th>opel</th>\n",
       "      <td>2983.042281</td>\n",
       "      <td>129476.338247</td>\n",
       "    </tr>\n",
       "    <tr>\n",
       "      <th>peugeot</th>\n",
       "      <td>3090.864827</td>\n",
       "      <td>127275.300778</td>\n",
       "    </tr>\n",
       "    <tr>\n",
       "      <th>renault</th>\n",
       "      <td>2462.856137</td>\n",
       "      <td>128297.404311</td>\n",
       "    </tr>\n",
       "    <tr>\n",
       "      <th>seat</th>\n",
       "      <td>4388.873874</td>\n",
       "      <td>122015.765766</td>\n",
       "    </tr>\n",
       "    <tr>\n",
       "      <th>volkswagen</th>\n",
       "      <td>5580.219510</td>\n",
       "      <td>129023.033763</td>\n",
       "    </tr>\n",
       "  </tbody>\n",
       "</table>\n",
       "</div>"
      ],
      "text/plain": [
       "                mean_price    mean_milage\n",
       "audi           9286.365226  129519.184070\n",
       "bmw            8331.746587  132787.925399\n",
       "fiat           2813.182630  117203.733766\n",
       "ford           4060.090036  124266.206483\n",
       "mercedes_benz  8572.807239  131196.031400\n",
       "opel           2983.042281  129476.338247\n",
       "peugeot        3090.864827  127275.300778\n",
       "renault        2462.856137  128297.404311\n",
       "seat           4388.873874  122015.765766\n",
       "volkswagen     5580.219510  129023.033763"
      ]
     },
     "execution_count": 53,
     "metadata": {},
     "output_type": "execute_result"
    }
   ],
   "source": [
    "bmp_series= pd.Series(brand_mean_price)\n",
    "bmm_series= pd.Series(brand_mean_milage)\n",
    "df = pd.DataFrame(bmp_series, columns=['mean_price'])\n",
    "df[\"mean_milage\"]= bmm_series\n",
    "df"
   ]
  },
  {
   "cell_type": "markdown",
   "metadata": {
    "collapsed": true,
    "deletable": true,
    "editable": true
   },
   "source": [
    "From a quick overview, there doesn't seem to be a correlation between mean milage and car brand price"
   ]
  }
 ],
 "metadata": {
  "kernelspec": {
   "display_name": "Python 3",
   "language": "python",
   "name": "python3"
  },
  "language_info": {
   "codemirror_mode": {
    "name": "ipython",
    "version": 3
   },
   "file_extension": ".py",
   "mimetype": "text/x-python",
   "name": "python",
   "nbconvert_exporter": "python",
   "pygments_lexer": "ipython3",
   "version": "3.5.2"
  }
 },
 "nbformat": 4,
 "nbformat_minor": 2
}
